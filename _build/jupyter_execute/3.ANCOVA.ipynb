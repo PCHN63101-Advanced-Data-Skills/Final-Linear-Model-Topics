{
 "cells": [
  {
   "cell_type": "markdown",
   "id": "8a6b3fd6-1753-45e7-a920-fccf68cbdcac",
   "metadata": {},
   "source": [
    "# Analysis of Covariance (ANCOVA)\n",
    "We now have all the information we need to understand mutliple regression models containing continuous predictor variables, and multiple regression models containing categorical variables, via the ANOVA framework. But what about models that contain *both*? This is traditionally the domain of Analysis of Covariance or ANCOVA models. In this part of the lesson, we will explore the ANCOVA from the perspective of multiple regression to see how it fits within our current framework. As we will see, these types of model are effectively regression models with omnibus tests for the categorical predictors. Perhaps the more important element of this is seeing what effect the continuous predictor variables have on inference, as a typical use of ANCOVA is to \"control\" for some other source of variance within the context of an experiment. However, there are important limitations to this perspective that often lead researchers astray. Because of this, we need to deal with the idea of the ANCOVA being a \"control\" mechanism and show that this is not the best metaphor for understanding what happens when both continuous and categorical predictors are in the same model."
   ]
  },
  {
   "cell_type": "markdown",
   "id": "c6ba3326",
   "metadata": {},
   "source": [
    "## Lord's Paradox"
   ]
  },
  {
   "cell_type": "markdown",
   "id": "a5c88906",
   "metadata": {},
   "source": []
  }
 ],
 "metadata": {
  "kernelspec": {
   "display_name": "R",
   "language": "R",
   "name": "ir"
  },
  "language_info": {
   "codemirror_mode": "r",
   "file_extension": ".r",
   "mimetype": "text/x-r-source",
   "name": "R",
   "pygments_lexer": "r",
   "version": "4.5.0"
  }
 },
 "nbformat": 4,
 "nbformat_minor": 5
}