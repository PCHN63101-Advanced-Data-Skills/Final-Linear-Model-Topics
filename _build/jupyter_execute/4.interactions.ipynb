{
 "cells": [
  {
   "cell_type": "markdown",
   "id": "8a6b3fd6-1753-45e7-a920-fccf68cbdcac",
   "metadata": {},
   "source": [
    "# More Sophisticated Interactions\n",
    "In the final part of this lesson, we shall return to the topic of interactions. Previously, we discussed the nature of interactions between multiple categorical predictor variables. However, interactions are a more general concept. Indeed, given that an interaction is defined by simply *multiplying* predictor variables, we can also form *continuous $\\times$ continuous* interactions and *continuous $\\times$ categorical* interactions. In this part of the lesson, we will explore both types to give a clearer sense of what these types of interaction mean, how to visualise them and how to follow them up."
   ]
  },
  {
   "cell_type": "markdown",
   "id": "c6ba3326",
   "metadata": {},
   "source": [
    "## Continuous $\\times$ Continuous Interactions"
   ]
  },
  {
   "cell_type": "markdown",
   "id": "fd65c759",
   "metadata": {},
   "source": [
    "## Categorical $\\times$ Continuous Interactions\n",
    "\n",
    "### Interpreting Group Means in the Presence of an Interaction\n",
    "... The problem is that when the slopes are *different*, the mean difference between the group depends upon the value of the covariate. The most extreme example is when the slopes *cross*, because the group difference would *reverse* depending upon the value of the covariate we select. In fact, the group difference would be *zero* if we selected the covariate value precisely at the point where the slopes crossed.\n",
    "\n",
    "... In general, unless we have a particularly meaningful value of the covariate to select for the group comparison, these effects must be *ignored*. Instead, we can only interpret the difference between the slopes. This shifts the nature of a traditional ANCOVA model. If your aim is to \"control\" for some other variable (despite the issues with this interpretation), including an interaction shifts the focus on to that other variable. The continuous predictor is no longer a nuisance term of no interest, rather, it becomes the focus."
   ]
  },
  {
   "cell_type": "markdown",
   "id": "a5c88906",
   "metadata": {},
   "source": []
  }
 ],
 "metadata": {
  "kernelspec": {
   "display_name": "R",
   "language": "R",
   "name": "ir"
  },
  "language_info": {
   "codemirror_mode": "r",
   "file_extension": ".r",
   "mimetype": "text/x-r-source",
   "name": "R",
   "pygments_lexer": "r",
   "version": "4.5.0"
  }
 },
 "nbformat": 4,
 "nbformat_minor": 5
}