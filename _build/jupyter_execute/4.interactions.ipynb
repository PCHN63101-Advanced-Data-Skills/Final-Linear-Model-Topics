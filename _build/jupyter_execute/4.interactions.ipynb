{
 "cells": [
  {
   "cell_type": "markdown",
   "id": "8a6b3fd6-1753-45e7-a920-fccf68cbdcac",
   "metadata": {},
   "source": [
    "# More Sophisticated Interactions\n",
    "In the final part of this lesson, we shall return to the topic of interactions. Previously, we discussed the nature of interactions between multiple categorical predictor variables. However, interactions are a more general concept. Indeed, given that an interaction is defined by simply *multiplying* predictor variables, we can also form *continuous $\\times$ continuous* interactions and *continuous $\\times$ categorical* interactions. In this part of the lesson, we will explore both types to give a clearer sense of what these types of interaction mean, how to visualise them and how to follow them up."
   ]
  },
  {
   "cell_type": "markdown",
   "id": "c6ba3326",
   "metadata": {},
   "source": [
    "## Continuous $\\times$ Continuous Interactions"
   ]
  },
  {
   "cell_type": "markdown",
   "id": "fd65c759",
   "metadata": {},
   "source": [
    "## Categorical $\\times$ Continuous Interactions"
   ]
  },
  {
   "cell_type": "markdown",
   "id": "a5c88906",
   "metadata": {},
   "source": []
  }
 ],
 "metadata": {
  "kernelspec": {
   "display_name": "R",
   "language": "R",
   "name": "ir"
  },
  "language_info": {
   "codemirror_mode": "r",
   "file_extension": ".r",
   "mimetype": "text/x-r-source",
   "name": "R",
   "pygments_lexer": "r",
   "version": "4.5.0"
  }
 },
 "nbformat": 4,
 "nbformat_minor": 5
}